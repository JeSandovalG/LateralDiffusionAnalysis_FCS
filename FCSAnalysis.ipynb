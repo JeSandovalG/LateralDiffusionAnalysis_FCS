{
 "cells": [
  {
   "cell_type": "code",
   "execution_count": 8,
   "metadata": {},
   "outputs": [],
   "source": [
    "#Package importation\n",
    "import numpy as np #Numerical tools package\n",
    "import matplotlib.pyplot as plt #Plotting package\n",
    "from scipy.optimize import curve_fit #Curve fitting package\n",
    "import statsmodels.api as sm #Autocorrelation function package\n",
    "import pandas as pd #.csv and .xlsx management package"
   ]
  },
  {
   "cell_type": "markdown",
   "metadata": {},
   "source": [
    "<h1>Essential functions for the code to work</h1>"
   ]
  },
  {
   "cell_type": "code",
   "execution_count": 9,
   "metadata": {},
   "outputs": [],
   "source": [
    "def diffusionModel(t,A,td,c): \n",
    "    \"\"\"Takes a time array, an A (=1/N) value, a diffusion time (t_d) value and a displacement constant.\n",
    "    Returns an array corresponding to the 2D diffusion model.\"\"\"\n",
    "    return A/(1+(t/td))+c\n",
    "\n",
    "def fitCurve(time,ac):\n",
    "    \"\"\"Takes a time array and an experimental autocorrelation array. \n",
    "    Returns the fitted curve, the fit A (1/N) and td values respectively and the covariance matrix of the fit\"\"\"\n",
    "    pOpt,pCov = curve_fit(diffusionModel,time,ac) #Generates the optimal parameters (pOpt) and the covariance matrix (pCov)\n",
    "    fitCurve = diffusionModel(time,*pOpt) #Optimal curve\n",
    "    return fitCurve,pOpt[0],pOpt[1],pCov\n",
    "\n",
    "def rawData(imRoute):\n",
    "    \"\"\"Takes an image route corresponding to a fluorescence signal (in .tif format). \n",
    "    Returns raw data along with its time vector.\"\"\"\n",
    "    dt = 1.12 #ms per measurement (microscope-specific value)\n",
    "    raw = plt.imread(imRoute)[:,0] #Fluorescence signal (just one pixel of two available)\n",
    "    tf = len(raw)*1.12 #Final sampling sime\n",
    "    time = np.arange(0,tf+dt,dt) #Time in ms\n",
    "\n",
    "    return raw,time\n",
    "\n",
    "def splice(imRoute):\n",
    "    \"\"\"Takes an image route corresponding to a 33s-long fluorescence signal (in .tif format). \n",
    "    Returns splices of 1 second from such data along with its corresponding time vector\"\"\"\n",
    "    dt = 1.12 #ms per measurement (microscope-specific value)\n",
    "    n1Sec = int(1000/dt) #Data points that make up to a second\n",
    "    raw, time = rawData(imRoute)\n",
    "    splices = [] #Vector containing all splices extracted from raw\n",
    "    totalSecs = int(len(raw)/n1Sec) #Total iterations to splice all data\n",
    "    time = np.arange(0,n1Sec*dt,dt) #Time vector for each splice\n",
    "\n",
    "    for i in range(totalSecs):\n",
    "        prStep = i*n1Sec #starting splicing step\n",
    "        nextStep = (i+1)*n1Sec #following splicing step\n",
    "        spl = raw[prStep:nextStep] #current splice\n",
    "        splices.append(spl)\n",
    "\n",
    "    return splices,time\n",
    "\n",
    "def autocorrelation(raw,time):\n",
    "    \"\"\"Takes the raw fluorescence signal and its time vector. \n",
    "    Gives the associated autocorrelation function with its time vector\"\"\"\n",
    "    corr = sm.tsa.acf(raw,nlags=len(raw),fft = False)[1::] #autocorrelation function (drops 1st value by necessity)\n",
    "    time = time[0:len(corr)]\n",
    "\n",
    "    return corr,time\n",
    "\n",
    "def allAutocorrelations(imRoute):\n",
    "    \"\"\"Takes the route of a fluorescence signal (in .tif format). \n",
    "    Gives the autocorrelation function of all splices in an\n",
    "    array.\"\"\"\n",
    "\n",
    "    splices, time = splice(imRoute) #Takes all splices of one dataset\n",
    "    autocorrs = [] #Autocorrelation functions for all splices\n",
    "    for i in range(len(splices)):\n",
    "        res = autocorrelation(splices[i],time)\n",
    "        autocorrs.append(res[0])\n",
    "        time = res[1]\n",
    "\n",
    "    return autocorrs, time"
   ]
  },
  {
   "cell_type": "markdown",
   "metadata": {},
   "source": [
    "<h1>Workflow</h1>\n",
    "Note: Wherever you see (MANUAL) as a comment, please insert the file name corresponding to your data.\n",
    "<h3>1. Producing a .csv file with all the autocorrelation functions </h3>"
   ]
  },
  {
   "cell_type": "code",
   "execution_count": 10,
   "metadata": {},
   "outputs": [],
   "source": [
    "labels = [] #.tif file labels that will be used to perform FCS analysis\n",
    "ex = [] #.tif file tuples ((i,j) for GUVi FCSj.tif) that DO NOT follow selection criteria\n",
    "\n",
    "for i in range(1,8): #GUV Iterator\n",
    "    for j in range(1,8): #Signal iterator\n",
    "        if (i,j) not in ex: #won't read any signal in the ex list\n",
    "            labels.append(\"Pruebas 22-05-24/15 CHO/GUV{} FCS{}.tif\".format(i,j)) #(MANUAL)\n",
    "            #Note: The file route should contain all fluorescence signals that want to be analyzed\n",
    "       \n",
    "autocorrs = [] #All autocorrelations obtained from all the files in the labels list\n",
    "\n",
    "for label in labels:\n",
    "    actualAC,time = allAutocorrelations(label) #Takes all autocorrelations from a single label\n",
    "    for ac in actualAC:\n",
    "       autocorrs.append(ac) #Appends every autocorrelation function to autocorrs\n",
    "\n",
    "data = {} #Data dictionary (soon to be .csv)\n",
    "data[\"Time(ms)\"] = time #Time vector is inserted into the data dict for good measure\n",
    "for i in range(len(autocorrs)): #Inserting all data in the autocorrs list\n",
    "    data[\"ACF{}\".format(i)] = autocorrs[i]\n",
    "\n",
    "dataframe = pd.DataFrame(data) #Converting data into a dataframe\n",
    "\n",
    "#.csv file with all the autocorrelation funtions! Please name it and store it as you prefer\n",
    "dataframe.to_csv(\"Pruebas 22-05-24/15 CHO/test.csv\",index = False) #(MANUAL)"
   ]
  },
  {
   "cell_type": "markdown",
   "metadata": {},
   "source": [
    "<h3>2. Fitting all the autocorrelation functions and obtaining diffusion coefficients</h3>"
   ]
  },
  {
   "cell_type": "code",
   "execution_count": 11,
   "metadata": {},
   "outputs": [],
   "source": [
    "data = pd.read_csv(\"Pruebas 22-05-24/15 CHO/test.csv\") #(MANUAL) Data from the .csv generated above\n",
    "time = np.array(data[\"Time(ms)\"])\n",
    "totalACFs = len(data.columns)-1 #Number of ACFs (ignores the time column)\n",
    "nACFs = 33 #Number of ACFs per measurement \n",
    "\n",
    "#Every 33 autocorrelation functions (one total measurement) are averaged and kept in the meanACFs list\n",
    "meanACFs = [] #Mean autocorrelation functions\n",
    "\n",
    "for i in range(0,totalACFs,nACFs):\n",
    "    indices = np.arange(i,i+nACFs) \n",
    "    currentACFs = [] #Current analyzed ACFs coming from the indices\n",
    "\n",
    "    for ind in indices:\n",
    "        currentACFs.append(np.array(data[\"ACF{}\".format(ind)])) \n",
    "\n",
    "    currentACFs = np.array(currentACFs).T #Array containing all 33 ACFs soon to be averaged\n",
    "\n",
    "    currentMeanACF = [] #Array containing all averaged ACFs\n",
    "    for j in range(len(currentACFs)):\n",
    "        currentMeanACF.append(np.mean(currentACFs[j]))\n",
    "\n",
    "    currentMeanACF = np.array(currentMeanACF)\n",
    "    meanACFs.append(currentMeanACF/currentMeanACF[0]) #Optional: ACFs are normalized to appreciate the td difference\n",
    "\n",
    "tds = [] #List containing all the measured diffusion times\n",
    "r0 = 0.8 #(MANUAL) R0 value (in um) previously calibrated\n",
    "\n",
    "for meanACF in meanACFs:\n",
    "    fit,_,td,_ = fitCurve(time,meanACF) #Every curve gets fitted and plotted \n",
    "    #plt.semilogx(time,fit/fit[0]) \n",
    "    tds.append(td)\n",
    "\n",
    "tds = np.array(tds)/1000 #Conversion from ms to s\n",
    "ds = r0**2/(4*tds) #Diffusion coefficient measurement from FCS theory formula"
   ]
  },
  {
   "cell_type": "markdown",
   "metadata": {},
   "source": [
    "<h3>Notes:</h3>\n",
    "\n",
    "1. In order to further clean up the diffusion coefficient data, you can use tests such as Chauvenet's principle or the Modified Thomson $\\tau$ Test to eliminate possible outliers.\n",
    "2. You can still use this code if you want to calibrate $R_0$. However, you will need to use the formula $R_0 = \\sqrt{4D\\tau_D}$ using a fluorophore with a well-known D and your measured $\\tau_D$ values.\n",
    "3. Feel free to make any necesary adaptations, but please cite us if you do so. <b>Happy coding!</b>"
   ]
  }
 ],
 "metadata": {
  "kernelspec": {
   "display_name": "base",
   "language": "python",
   "name": "python3"
  },
  "language_info": {
   "codemirror_mode": {
    "name": "ipython",
    "version": 3
   },
   "file_extension": ".py",
   "mimetype": "text/x-python",
   "name": "python",
   "nbconvert_exporter": "python",
   "pygments_lexer": "ipython3",
   "version": "3.7.4"
  }
 },
 "nbformat": 4,
 "nbformat_minor": 2
}
